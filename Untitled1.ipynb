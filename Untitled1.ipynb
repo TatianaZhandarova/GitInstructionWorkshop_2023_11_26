{
  "nbformat": 4,
  "nbformat_minor": 0,
  "metadata": {
    "colab": {
      "provenance": [],
      "authorship_tag": "ABX9TyMs/673ljsJUIMWgdPyAVEL",
      "include_colab_link": true
    },
    "kernelspec": {
      "name": "python3",
      "display_name": "Python 3"
    },
    "language_info": {
      "name": "python"
    }
  },
  "cells": [
    {
      "cell_type": "markdown",
      "metadata": {
        "id": "view-in-github",
        "colab_type": "text"
      },
      "source": [
        "<a href=\"https://colab.research.google.com/github/TatianaZhandarova/GitInstructionWorkshop_2023_11_26/blob/main/Untitled1.ipynb\" target=\"_parent\"><img src=\"https://colab.research.google.com/assets/colab-badge.svg\" alt=\"Open In Colab\"/></a>"
      ]
    },
    {
      "cell_type": "code",
      "execution_count": null,
      "metadata": {
        "id": "VmNHSX-SiIDL"
      },
      "outputs": [],
      "source": [
        "number = int(input(\"введите число: \"))\n",
        "#if number//10 == 0:\n",
        "#    print(\"число однозначное\");\n",
        "#elif number//10 < 10:\n",
        "#    print(\"число двухзначное\");\n",
        "#else: print(\"число многозначное\");\n",
        "#if number > 0:\n",
        "#    print(\"число положительное\")\n",
        "#else: print(\"число отрицательное\")\n",
        "if number**2 < 100:\n",
        "    print(number)\n",
        "elif number**2 >= 100 and number > 0 and number**2 <= 10000:\n",
        "    print(\"число двухзначное\")\n",
        "    print(\"число положительное\")\n",
        "elif number**2 >= 100 and number < 0 and number**2 <= 10000:\n",
        "    print(\"число двухзначное\")\n",
        "    print(\"число отрицательное\")\n",
        "else: print(number)"
      ]
    },
    {
      "cell_type": "code",
      "source": [
        "#Но есть такие квартиры, где никто не зарегистрирован. И когда вы вводите количество жильцов, равное нулю,\n",
        "#программа выдаёт ошибку, потому что делить на ноль нельзя. Измените программу так, чтобы она выполнялась даже\n",
        "#при введении нуля в знаменателе и вместо ошибки\n",
        "#выводила сообщение о том, что значение посчитать не удалось. Сделайте это с помощью конструкции try, except.\n",
        "\n",
        "space = float(input(\"Введите площадь жилого помещения: \"))\n",
        "residents = int(input(\"Введите количество проживающих: \"))\n",
        "try:\n",
        "    livin_space = space/residents\n",
        "    print(\"На каждого жильца приходится по\", livin_space, \"квадратных метров жилой площади\")\n",
        "except:\n",
        "    print(\"Не удалось посчитать значение\")"
      ],
      "metadata": {
        "id": "Ir2Yvji_if_8"
      },
      "execution_count": null,
      "outputs": []
    },
    {
      "cell_type": "code",
      "source": [
        "#Напишите цикл, который выводит на печать все високосные годы начиная с 2020-го, но не позже 2050 года.\n",
        "\n",
        "for i in range(2020, 2051):\n",
        "    if i % 4 == 0:\n",
        "        print(i)\n",
        "\n",
        "#Студент Джонсон поступил в университет и взял в кредит 120 тыс. долларов под 6% годовых.\n",
        "#Все шесть лет учёбы в бакалавриате и магистратуре он не сможет выплачивать кредит,\n",
        "#и процент будет прибавляться к основному кредиту.\n",
        "#Напишите программу, которая посчитает, сколько студент Джонсон будет должен банку к концу своего обучения.\n",
        "\n",
        "credit = float(input(\"Введите сумму кредита: \"))\n",
        "percent = float(input(\"Введите ставку по кредиту в % годовых: \"))\n",
        "for i in range(1, 7):\n",
        "    credit = credit*(percent/100+1)\n",
        "print(credit)\n",
        "\n",
        "#Напишите программу, которая проверяла бы все числа от 0 до 30 включительно.\n",
        "#Если число делится нацело на два, его нужно напечатать.\n",
        "\n",
        "for i in range(31):\n",
        "    if i%2==0:\n",
        "        print(i)\n",
        "\n",
        "#На первую клетку кладётся одно зерно, на вторую — два зерна, на третью — четыре, затем — восемь.\n",
        "#С каждой клеткой количество зёрен увеличивается в два раза.\n",
        "#Напишите цикл, который выводил бы на печать порядковый номер клетки и количество зёрен на ней до тех пор,\n",
        "#пока их количество на одной клетке не превысит 100 тысяч.\n",
        "\n",
        "cell = 1\n",
        "corn = 1\n",
        "print(cell, corn)\n",
        "while corn < 100000:\n",
        "    cell += 1\n",
        "    corn *= 2\n",
        "    if corn > 100000:\n",
        "        break\n",
        "    print(cell, corn)\n",
        "\n",
        "\n"
      ],
      "metadata": {
        "id": "LDF_X4q4uHPE"
      },
      "execution_count": null,
      "outputs": []
    },
    {
      "cell_type": "code",
      "source": [
        "#В списке user_scores хранятся данные об оценках от клиентов.\n",
        "#Посчитайте минимальную, максимальную и среднюю оценки от пользователей за день.\n",
        "\n",
        "user_scores = [3, 3, 5, 5, 1, 1]\n",
        "max = 0\n",
        "min = 0\n",
        "avg = 0\n",
        "sum_user_scores = 0\n",
        "\n",
        "for scores in range(len(user_scores)):\n",
        "    if max < user_scores[scores]:\n",
        "        max = user_scores[scores]\n",
        "\n",
        "for scores in range(len(user_scores)):\n",
        "    if max > user_scores[scores]:\n",
        "        min = user_scores[scores]\n",
        "\n",
        "for scores in range(len(user_scores)):\n",
        "    sum_user_scores = sum_user_scores + user_scores[scores]\n",
        "\n",
        "avg = sum_user_scores/len(user_scores)\n",
        "\n",
        "print('max =', max, 'min =', min, 'avg =', avg)\n"
      ],
      "metadata": {
        "id": "OkGE_H_ZQOLQ"
      },
      "execution_count": null,
      "outputs": []
    }
  ]
}