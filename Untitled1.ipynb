{
  "nbformat": 4,
  "nbformat_minor": 0,
  "metadata": {
    "colab": {
      "provenance": [],
      "authorship_tag": "ABX9TyPlWGEtgbmrYIs+ytTk2Eoc"
    },
    "kernelspec": {
      "name": "python3",
      "display_name": "Python 3"
    },
    "language_info": {
      "name": "python"
    }
  },
  "cells": [
    {
      "cell_type": "code",
      "execution_count": null,
      "metadata": {
        "id": "VmNHSX-SiIDL"
      },
      "outputs": [],
      "source": [
        "number = int(input(\"введите число: \"))\n",
        "#if number//10 == 0:\n",
        "#    print(\"число однозначное\");\n",
        "#elif number//10 < 10:\n",
        "#    print(\"число двухзначное\");\n",
        "#else: print(\"число многозначное\");\n",
        "#if number > 0:\n",
        "#    print(\"число положительное\")\n",
        "#else: print(\"число отрицательное\")\n",
        "if number**2 < 100:\n",
        "    print(number)\n",
        "elif number**2 >= 100 and number > 0 and number**2 <= 10000:\n",
        "    print(\"число двухзначное\")\n",
        "    print(\"число положительное\")\n",
        "elif number**2 >= 100 and number < 0 and number**2 <= 10000:\n",
        "    print(\"число двухзначное\")\n",
        "    print(\"число отрицательное\")\n",
        "else: print(number)"
      ]
    }
  ]
}