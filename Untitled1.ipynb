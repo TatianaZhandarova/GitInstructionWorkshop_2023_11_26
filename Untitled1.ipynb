{
  "nbformat": 4,
  "nbformat_minor": 0,
  "metadata": {
    "colab": {
      "provenance": [],
      "authorship_tag": "ABX9TyOymhNMbw5fVCm+JbvnSUw7",
      "include_colab_link": true
    },
    "kernelspec": {
      "name": "python3",
      "display_name": "Python 3"
    },
    "language_info": {
      "name": "python"
    }
  },
  "cells": [
    {
      "cell_type": "markdown",
      "metadata": {
        "id": "view-in-github",
        "colab_type": "text"
      },
      "source": [
        "<a href=\"https://colab.research.google.com/github/TatianaZhandarova/GitInstructionWorkshop_2023_11_26/blob/main/Untitled1.ipynb\" target=\"_parent\"><img src=\"https://colab.research.google.com/assets/colab-badge.svg\" alt=\"Open In Colab\"/></a>"
      ]
    },
    {
      "cell_type": "code",
      "execution_count": null,
      "metadata": {
        "id": "VmNHSX-SiIDL"
      },
      "outputs": [],
      "source": [
        "number = int(input(\"введите число: \"))\n",
        "#if number//10 == 0:\n",
        "#    print(\"число однозначное\");\n",
        "#elif number//10 < 10:\n",
        "#    print(\"число двухзначное\");\n",
        "#else: print(\"число многозначное\");\n",
        "#if number > 0:\n",
        "#    print(\"число положительное\")\n",
        "#else: print(\"число отрицательное\")\n",
        "if number**2 < 100:\n",
        "    print(number)\n",
        "elif number**2 >= 100 and number > 0 and number**2 <= 10000:\n",
        "    print(\"число двухзначное\")\n",
        "    print(\"число положительное\")\n",
        "elif number**2 >= 100 and number < 0 and number**2 <= 10000:\n",
        "    print(\"число двухзначное\")\n",
        "    print(\"число отрицательное\")\n",
        "else: print(number)"
      ]
    },
    {
      "cell_type": "code",
      "source": [
        "#Но есть такие квартиры, где никто не зарегистрирован. И когда вы вводите количество жильцов, равное нулю,\n",
        "#программа выдаёт ошибку, потому что делить на ноль нельзя. Измените программу так, чтобы она выполнялась даже\n",
        "#при введении нуля в знаменателе и вместо ошибки\n",
        "#выводила сообщение о том, что значение посчитать не удалось. Сделайте это с помощью конструкции try, except.\n",
        "\n",
        "space = float(input(\"Введите площадь жилого помещения: \"))\n",
        "residents = int(input(\"Введите количество проживающих: \"))\n",
        "try:\n",
        "    livin_space = space/residents\n",
        "    print(\"На каждого жильца приходится по\", livin_space, \"квадратных метров жилой площади\")\n",
        "except:\n",
        "    print(\"Не удалось посчитать значение\")"
      ],
      "metadata": {
        "id": "Ir2Yvji_if_8"
      },
      "execution_count": null,
      "outputs": []
    }
  ]
}